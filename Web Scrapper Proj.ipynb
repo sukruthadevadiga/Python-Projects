{
 "cells": [
  {
   "cell_type": "code",
   "execution_count": 26,
   "id": "4e0839ba-312a-49f0-9172-6746cdad0f78",
   "metadata": {},
   "outputs": [],
   "source": [
    "import requests\n",
    "from bs4 import BeautifulSoup as bs\n",
    "from urllib.request import urlopen\n",
    "import logging"
   ]
  },
  {
   "cell_type": "code",
   "execution_count": 27,
   "id": "c9389b30-5aeb-4b54-a45f-29b69eb55a76",
   "metadata": {},
   "outputs": [],
   "source": [
    "flipkart_url = \"https://www.flipkart.com/search?q=\" + \"tv\""
   ]
  },
  {
   "cell_type": "code",
   "execution_count": 28,
   "id": "b37d95e7-ab08-44c7-8148-7e7f634ae324",
   "metadata": {},
   "outputs": [
    {
     "data": {
      "text/plain": [
       "'https://www.flipkart.com/search?q=tv'"
      ]
     },
     "execution_count": 28,
     "metadata": {},
     "output_type": "execute_result"
    }
   ],
   "source": [
    "flipkart_url"
   ]
  },
  {
   "cell_type": "code",
   "execution_count": 29,
   "id": "2c83013d-b145-4b30-ae91-66b11c2ffc44",
   "metadata": {},
   "outputs": [],
   "source": [
    "urlclient = urlopen(flipkart_url)"
   ]
  },
  {
   "cell_type": "code",
   "execution_count": 30,
   "id": "d6ee8419-a6b4-4070-8796-5ea20b795517",
   "metadata": {},
   "outputs": [],
   "source": [
    "flipkart_page = urlclient.read()"
   ]
  },
  {
   "cell_type": "code",
   "execution_count": 31,
   "id": "924d6e86-ac17-47cf-83e0-b30281c9392d",
   "metadata": {},
   "outputs": [],
   "source": [
    "flipkart_html = bs(flipkart_page, 'html.parser')"
   ]
  },
  {
   "cell_type": "code",
   "execution_count": 33,
   "id": "3969aeb8-adcc-4355-b7a3-182128081bcb",
   "metadata": {},
   "outputs": [
    {
     "data": {
      "text/plain": [
       "'https://www.flipkart.com/samsung-80-cm-32-inch-hd-ready-led-smart-tizen-tv-2022-model/p/itm3c07ddc2dd25d?pid=TVSGHY2UZA9YHWQN&lid=LSTTVSGHY2UZA9YHWQNNQENTU&marketplace=FLIPKART&q=tv&store=ckf%2Fczl&srno=s_1_1&otracker=search&iid=en_TKQPAmF5nsEjqxmCd3TP7W1tW%2F22AFG%2FDISn8r0fLAXYwvIsm8%2Bjx%2FZK6PInUDZXKUXLsS6xKC1eMMA2CJL5Kg%3D%3D&ssid=1cqca6joxs0000001678329408419&qH=c9a1fdac6e082dd8'"
      ]
     },
     "execution_count": 33,
     "metadata": {},
     "output_type": "execute_result"
    }
   ],
   "source": [
    "\"https://www.flipkart.com\"+\"/samsung-80-cm-32-inch-hd-ready-led-smart-tizen-tv-2022-model/p/itm3c07ddc2dd25d?pid=TVSGHY2UZA9YHWQN&lid=LSTTVSGHY2UZA9YHWQNNQENTU&marketplace=FLIPKART&q=tv&store=ckf%2Fczl&srno=s_1_1&otracker=search&iid=en_TKQPAmF5nsEjqxmCd3TP7W1tW%2F22AFG%2FDISn8r0fLAXYwvIsm8%2Bjx%2FZK6PInUDZXKUXLsS6xKC1eMMA2CJL5Kg%3D%3D&ssid=1cqca6joxs0000001678329408419&qH=c9a1fdac6e082dd8\""
   ]
  },
  {
   "cell_type": "code",
   "execution_count": 34,
   "id": "b5a2ad08-6872-4e89-a1ee-670c71590828",
   "metadata": {},
   "outputs": [],
   "source": [
    "bigbox = flipkart_html.find_all(\"div\", {\"class\":\"_1AtVbE col-12-12\"} )"
   ]
  },
  {
   "cell_type": "code",
   "execution_count": 35,
   "id": "06779fa3-39b7-4987-8c20-0f3721c8ee28",
   "metadata": {},
   "outputs": [
    {
     "data": {
      "text/plain": [
       "30"
      ]
     },
     "execution_count": 35,
     "metadata": {},
     "output_type": "execute_result"
    }
   ],
   "source": [
    "len(bigbox)"
   ]
  },
  {
   "cell_type": "code",
   "execution_count": 38,
   "id": "50b2a2bb-8d99-4fa0-b9a5-650f49db88e5",
   "metadata": {},
   "outputs": [],
   "source": [
    "del bigbox[0:3]"
   ]
  },
  {
   "cell_type": "code",
   "execution_count": 39,
   "id": "4ed45882-e03c-4895-b343-b306395d4bf4",
   "metadata": {},
   "outputs": [],
   "source": [
    "productlink = \"https://www.flipkart.com\" + bigbox[0].div.div.div.a['href']"
   ]
  },
  {
   "cell_type": "code",
   "execution_count": 40,
   "id": "e6542a55-7e3c-47b5-adc0-893c375b79dd",
   "metadata": {},
   "outputs": [
    {
     "name": "stdout",
     "output_type": "stream",
     "text": [
      "https://www.flipkart.com/infinix-y1-80-cm-32-inch-hd-ready-led-smart-linux-tv-wall-mount/p/itme5476ca89d1b0?pid=TVSGFGF34GMTB9KF&lid=LSTTVSGFGF34GMTB9KFF9JZPY&marketplace=FLIPKART&q=tv&store=ckf%2Fczl&srno=s_1_5&otracker=search&fm=organic&iid=79d34f87-d96d-4184-949e-dce14fa82015.TVSGFGF34GMTB9KF.SEARCH&ppt=None&ppn=None&ssid=q86mb5o2zk0000001678413227418&qH=c9a1fdac6e082dd8\n",
      "https://www.flipkart.com/oneplus-y1s-108-cm-43-inch-full-hd-led-smart-android-tv-11-bezel-less-frame/p/itm178846d2e1567?pid=TVSGAXEVSNT3HBQA&lid=LSTTVSGAXEVSNT3HBQAKRCYE0&marketplace=FLIPKART&q=tv&store=ckf%2Fczl&srno=s_1_6&otracker=search&fm=organic&iid=79d34f87-d96d-4184-949e-dce14fa82015.TVSGAXEVSNT3HBQA.SEARCH&ppt=None&ppn=None&ssid=q86mb5o2zk0000001678413227418&qH=c9a1fdac6e082dd8\n",
      "https://www.flipkart.com/oneplus-y1s-80-cm-32-inch-hd-ready-led-smart-android-tv-11-bezel-less-frame/p/itm0a39edd7df236?pid=TVSGAXEVXNG9YBUM&lid=LSTTVSGAXEVXNG9YBUMLGWYAS&marketplace=FLIPKART&q=tv&store=ckf%2Fczl&srno=s_1_7&otracker=search&fm=organic&iid=79d34f87-d96d-4184-949e-dce14fa82015.TVSGAXEVXNG9YBUM.SEARCH&ppt=None&ppn=None&ssid=q86mb5o2zk0000001678413227418&qH=c9a1fdac6e082dd8\n",
      "https://www.flipkart.com/sens-109-cm-43-inch-full-hd-led-smart-android-tv-dolby-audio-google-assistant/p/itm9b1cea1e82bc0?pid=TVSGHY2B7QAMDHTJ&lid=LSTTVSGHY2B7QAMDHTJ9HUDDS&marketplace=FLIPKART&q=tv&store=ckf%2Fczl&srno=s_1_8&otracker=search&fm=organic&iid=en_2juQ6PBIRvjNbwtEp%2ByYvPSSqZQpthdq0RRnLABT0rd23cF8hJgSxaaRKZ6EifCh%2FCl0D34ecoaxBVle30PuUQ%3D%3D&ppt=None&ppn=None&ssid=q86mb5o2zk0000001678413227418&qH=c9a1fdac6e082dd8\n",
      "https://www.flipkart.com/acer-series-127-cm-50-inch-ultra-hd-4k-led-smart-android-tv-11-30w-dolby-audio-memc-2022-model/p/itm54c82a8825de0?pid=TVSGEYD9PZYZVGGS&lid=LSTTVSGEYD9PZYZVGGSH6YNOA&marketplace=FLIPKART&q=tv&store=ckf%2Fczl&srno=s_1_9&otracker=search&fm=organic&iid=79d34f87-d96d-4184-949e-dce14fa82015.TVSGEYD9PZYZVGGS.SEARCH&ppt=None&ppn=None&ssid=q86mb5o2zk0000001678413227418&qH=c9a1fdac6e082dd8\n",
      "https://www.flipkart.com/oneplus-y1s-pro-138-cm-55-inch-ultra-hd-4k-led-smart-android-tv/p/itm5db9783099cbb?pid=TVSGJUFY5QMMWSU7&lid=LSTTVSGJUFY5QMMWSU7V52T1B&marketplace=FLIPKART&q=tv&store=ckf%2Fczl&srno=s_1_10&otracker=search&fm=organic&iid=79d34f87-d96d-4184-949e-dce14fa82015.TVSGJUFY5QMMWSU7.SEARCH&ppt=None&ppn=None&ssid=q86mb5o2zk0000001678413227418&qH=c9a1fdac6e082dd8\n",
      "https://www.flipkart.com/acer-100-cm-40-inch-full-hd-led-smart-android-tv/p/itmd0bd88d59827f?pid=TVSGHNHVWVGGUQHY&lid=LSTTVSGHNHVWVGGUQHYCG8AJV&marketplace=FLIPKART&q=tv&store=ckf%2Fczl&srno=s_1_11&otracker=search&fm=organic&iid=79d34f87-d96d-4184-949e-dce14fa82015.TVSGHNHVWVGGUQHY.SEARCH&ppt=None&ppn=None&ssid=q86mb5o2zk0000001678413227418&qH=c9a1fdac6e082dd8\n",
      "https://www.flipkart.com/sens-dwinci-165-cm-65-inch-qled-ultra-hd-4k-smart-google-tv-lumisens-panel-dolby-vision-atmos/p/itm16962f791e29f?pid=TVSGHY2BYXDUM5MX&lid=LSTTVSGHY2BYXDUM5MX9AK7UW&marketplace=FLIPKART&q=tv&store=ckf%2Fczl&srno=s_1_12&otracker=search&fm=organic&iid=en_2juQ6PBIRvjNbwtEp%2ByYvPSSqZQpthdq0RRnLABT0rcpIRcbw4dePelSh1D5EULSL9ep7fDDkUhNaM7WamsHFg%3D%3D&ppt=None&ppn=None&ssid=q86mb5o2zk0000001678413227418&qH=c9a1fdac6e082dd8\n",
      "https://www.flipkart.com/beethosol-80-cm-32-inch-hd-ready-led-smart-android-tv/p/itm8d2b1963a203d?pid=TVSGG79MJVM6CEZV&lid=LSTTVSGG79MJVM6CEZV0GKW4Y&marketplace=FLIPKART&q=tv&store=ckf%2Fczl&srno=s_1_13&otracker=search&fm=organic&iid=79d34f87-d96d-4184-949e-dce14fa82015.TVSGG79MJVM6CEZV.SEARCH&ppt=None&ppn=None&ssid=q86mb5o2zk0000001678413227418&qH=c9a1fdac6e082dd8\n",
      "https://www.flipkart.com/beethosol-80-cm-32-inch-hd-ready-led-tv/p/itmbc44ca58989cf?pid=TVSGG79MDS8CXWGD&lid=LSTTVSGG79MDS8CXWGD8P6NUB&marketplace=FLIPKART&q=tv&store=ckf%2Fczl&srno=s_1_14&otracker=search&fm=organic&iid=79d34f87-d96d-4184-949e-dce14fa82015.TVSGG79MDS8CXWGD.SEARCH&ppt=None&ppn=None&ssid=q86mb5o2zk0000001678413227418&qH=c9a1fdac6e082dd8\n",
      "https://www.flipkart.com/acer-series-80-cm-32-inch-hd-ready-led-smart-android-tv-11-1-5gb-ram-2022-model/p/itm5767c4e3d5359?pid=TVSGEYD98YRZGSRU&lid=LSTTVSGEYD98YRZGSRUPETPT6&marketplace=FLIPKART&q=tv&store=ckf%2Fczl&srno=s_1_15&otracker=search&fm=organic&iid=79d34f87-d96d-4184-949e-dce14fa82015.TVSGEYD98YRZGSRU.SEARCH&ppt=None&ppn=None&ssid=q86mb5o2zk0000001678413227418&qH=c9a1fdac6e082dd8\n",
      "https://www.flipkart.com/sansui-127-cm-50-inch-ultra-hd-4k-led-smart-android-tv-dolby-audio-dts-mystique-black-2021-model/p/itm48c3816fbdf5b?pid=TVSFWFSHTZYQJGFF&lid=LSTTVSFWFSHTZYQJGFFVUUZXB&marketplace=FLIPKART&q=tv&store=ckf%2Fczl&srno=s_1_16&otracker=search&fm=organic&iid=en_2juQ6PBIRvjNbwtEp%2ByYvPSSqZQpthdq0RRnLABT0rc4XsjRLPqGuQtdg7wC%2BLZ%2BCOy4mppdW%2FI7YGQrLEs%2FQQ%3D%3D&ppt=None&ppn=None&ssid=q86mb5o2zk0000001678413227418&qH=c9a1fdac6e082dd8\n",
      "https://www.flipkart.com/samsung-crystal-4k-108-cm-43-inch-ultra-hd-4k-led-smart-tizen-tv/p/itm7dcfb3cc69fbb?pid=TVSG2CG7F2Y9YUJ3&lid=LSTTVSG2CG7F2Y9YUJ39FS3ZI&marketplace=FLIPKART&q=tv&store=ckf%2Fczl&srno=s_1_17&otracker=search&fm=organic&iid=79d34f87-d96d-4184-949e-dce14fa82015.TVSG2CG7F2Y9YUJ3.SEARCH&ppt=None&ppn=None&ssid=q86mb5o2zk0000001678413227418&qH=c9a1fdac6e082dd8\n",
      "https://www.flipkart.com/realme-80-cm-32-inch-hd-ready-led-smart-android-tv/p/itm56d1cf16da75b?pid=TVSFRTJQTZVKTF6Y&lid=LSTTVSFRTJQTZVKTF6YHMHXRW&marketplace=FLIPKART&q=tv&store=ckf%2Fczl&srno=s_1_18&otracker=search&fm=organic&iid=79d34f87-d96d-4184-949e-dce14fa82015.TVSFRTJQTZVKTF6Y.SEARCH&ppt=None&ppn=None&ssid=q86mb5o2zk0000001678413227418&qH=c9a1fdac6e082dd8\n",
      "https://www.flipkart.com/mi-x-series-108-cm-43-inch-ultra-hd-4k-led-smart-android-tv-dolby-vision-30w-audio-2022-model/p/itm39b39b602f81a?pid=TVSGHEQVGZVTSEBT&lid=LSTTVSGHEQVGZVTSEBT6BSNVA&marketplace=FLIPKART&q=tv&store=ckf%2Fczl&srno=s_1_19&otracker=search&fm=organic&iid=79d34f87-d96d-4184-949e-dce14fa82015.TVSGHEQVGZVTSEBT.SEARCH&ppt=None&ppn=None&ssid=q86mb5o2zk0000001678413227418&qH=c9a1fdac6e082dd8\n",
      "https://www.flipkart.com/sens-pikaso-140-cm-55-inch-ultra-hd-4k-led-smart-android-tv-flurosens-panel-dolby-audio-dts/p/itm2c343fe2b90b1?pid=TVSGHY2BVYAS9FRS&lid=LSTTVSGHY2BVYAS9FRSHHFLXJ&marketplace=FLIPKART&q=tv&store=ckf%2Fczl&srno=s_1_20&otracker=search&fm=organic&iid=en_2juQ6PBIRvjNbwtEp%2ByYvPSSqZQpthdq0RRnLABT0rcyJFgBA38YdiawwmC%2BaoQDgIMW0cCjsXZVOVcdhYRq%2Bg%3D%3D&ppt=None&ppn=None&ssid=q86mb5o2zk0000001678413227418&qH=c9a1fdac6e082dd8\n",
      "https://www.flipkart.com/samsung-crystal-4k-neo-series-108-cm-43-inch-ultra-hd-4k-led-smart-tizen-tv-black-2022-model/p/itma076c4dd16aa4?pid=TVSGEAGP9GXWCHCX&lid=LSTTVSGEAGP9GXWCHCXSVNDV5&marketplace=FLIPKART&q=tv&store=ckf%2Fczl&srno=s_1_21&otracker=search&fm=organic&iid=79d34f87-d96d-4184-949e-dce14fa82015.TVSGEAGP9GXWCHCX.SEARCH&ppt=None&ppn=None&ssid=q86mb5o2zk0000001678413227418&qH=c9a1fdac6e082dd8\n",
      "https://www.flipkart.com/acer-series-139-cm-55-inch-ultra-hd-4k-led-smart-android-tv-11-30w-dolby-audio-memc-2022-model/p/itm75ac6230f0901?pid=TVSGEYD9FW7UQDZ5&lid=LSTTVSGEYD9FW7UQDZ5YQLPCW&marketplace=FLIPKART&q=tv&store=ckf%2Fczl&srno=s_1_22&otracker=search&fm=organic&iid=79d34f87-d96d-4184-949e-dce14fa82015.TVSGEYD9FW7UQDZ5.SEARCH&ppt=None&ppn=None&ssid=q86mb5o2zk0000001678413227418&qH=c9a1fdac6e082dd8\n",
      "https://www.flipkart.com/oneplus-u1s-139-cm-55-inch-ultra-hd-4k-led-smart-android-tv-far-field-dolby-audio/p/itmf1c99185dba18?pid=TVSG3E9AAUPVGH3Z&lid=LSTTVSG3E9AAUPVGH3ZMCZXAF&marketplace=FLIPKART&q=tv&store=ckf%2Fczl&srno=s_1_23&otracker=search&fm=organic&iid=79d34f87-d96d-4184-949e-dce14fa82015.TVSG3E9AAUPVGH3Z.SEARCH&ppt=None&ppn=None&ssid=q86mb5o2zk0000001678413227418&qH=c9a1fdac6e082dd8\n",
      "https://www.flipkart.com/sansui-80-cm-32-inch-hd-ready-led-smart-android-tv-11-midnight-black-2021-model/p/itm038eb70861a01?pid=TVSGYGQW3RZPMEVT&lid=LSTTVSGYGQW3RZPMEVTNH7KIN&marketplace=FLIPKART&q=tv&store=ckf%2Fczl&srno=s_1_24&otracker=search&fm=organic&iid=en_2juQ6PBIRvjNbwtEp%2ByYvPSSqZQpthdq0RRnLABT0reYFrJKUhsB5Q%2FlUwzLXdGIQCr7KGUEFPEePBFOITSUZA%3D%3D&ppt=None&ppn=None&ssid=q86mb5o2zk0000001678413227418&qH=c9a1fdac6e082dd8\n"
     ]
    },
    {
     "ename": "AttributeError",
     "evalue": "'NoneType' object has no attribute 'a'",
     "output_type": "error",
     "traceback": [
      "\u001b[0;31m---------------------------------------------------------------------------\u001b[0m",
      "\u001b[0;31mAttributeError\u001b[0m                            Traceback (most recent call last)",
      "Cell \u001b[0;32mIn[40], line 2\u001b[0m\n\u001b[1;32m      1\u001b[0m \u001b[38;5;28;01mfor\u001b[39;00m i \u001b[38;5;129;01min\u001b[39;00m bigbox:\n\u001b[0;32m----> 2\u001b[0m     \u001b[38;5;28mprint\u001b[39m(\u001b[38;5;124m\"\u001b[39m\u001b[38;5;124mhttps://www.flipkart.com\u001b[39m\u001b[38;5;124m\"\u001b[39m \u001b[38;5;241m+\u001b[39m \u001b[43mi\u001b[49m\u001b[38;5;241;43m.\u001b[39;49m\u001b[43mdiv\u001b[49m\u001b[38;5;241;43m.\u001b[39;49m\u001b[43mdiv\u001b[49m\u001b[38;5;241;43m.\u001b[39;49m\u001b[43mdiv\u001b[49m\u001b[38;5;241;43m.\u001b[39;49m\u001b[43ma\u001b[49m[\u001b[38;5;124m'\u001b[39m\u001b[38;5;124mhref\u001b[39m\u001b[38;5;124m'\u001b[39m])\n",
      "\u001b[0;31mAttributeError\u001b[0m: 'NoneType' object has no attribute 'a'"
     ]
    }
   ],
   "source": [
    "for i in bigbox:\n",
    "    print(\"https://www.flipkart.com\" + i.div.div.div.a['href'])"
   ]
  },
  {
   "cell_type": "code",
   "execution_count": 42,
   "id": "19b84f05-4f44-4de6-84a0-3c8cc8b83355",
   "metadata": {},
   "outputs": [
    {
     "data": {
      "text/plain": [
       "'https://www.flipkart.com/infinix-y1-80-cm-32-inch-hd-ready-led-smart-linux-tv-wall-mount/p/itme5476ca89d1b0?pid=TVSGFGF34GMTB9KF&lid=LSTTVSGFGF34GMTB9KFF9JZPY&marketplace=FLIPKART&q=tv&store=ckf%2Fczl&srno=s_1_5&otracker=search&fm=organic&iid=79d34f87-d96d-4184-949e-dce14fa82015.TVSGFGF34GMTB9KF.SEARCH&ppt=None&ppn=None&ssid=q86mb5o2zk0000001678413227418&qH=c9a1fdac6e082dd8'"
      ]
     },
     "execution_count": 42,
     "metadata": {},
     "output_type": "execute_result"
    }
   ],
   "source": [
    "productlink"
   ]
  },
  {
   "cell_type": "code",
   "execution_count": 43,
   "id": "b6857205-a482-4a21-a8e4-06cf3e9cd2aa",
   "metadata": {},
   "outputs": [],
   "source": [
    "product_req = requests.get(productlink)"
   ]
  },
  {
   "cell_type": "code",
   "execution_count": 44,
   "id": "7d3e8bb3-2585-4af1-a7ba-b1dfc42db004",
   "metadata": {},
   "outputs": [],
   "source": [
    "product_html = bs(product_req.text, 'html.parser')"
   ]
  },
  {
   "cell_type": "code",
   "execution_count": 48,
   "id": "0d6ebf57-61cc-4873-9f6d-30afb067248e",
   "metadata": {},
   "outputs": [],
   "source": [
    "comment_box = product_html.find_all(\"div\",{\"class\":\"_16PBlm\"})"
   ]
  },
  {
   "cell_type": "code",
   "execution_count": 49,
   "id": "6a2b5751-19cf-45f6-a850-585cb9d4c398",
   "metadata": {},
   "outputs": [
    {
     "data": {
      "text/plain": [
       "11"
      ]
     },
     "execution_count": 49,
     "metadata": {},
     "output_type": "execute_result"
    }
   ],
   "source": [
    "len(comment_box)"
   ]
  },
  {
   "cell_type": "code",
   "execution_count": 50,
   "id": "11934677-dc33-4347-9f66-bd9fcd1953f4",
   "metadata": {},
   "outputs": [
    {
     "data": {
      "text/plain": [
       "'Flipkart Customer'"
      ]
     },
     "execution_count": 50,
     "metadata": {},
     "output_type": "execute_result"
    }
   ],
   "source": [
    "comment_box[0].div.div.find_all(\"p\",{\"class\":\"_2sc7ZR _2V5EHH\"})[0].text"
   ]
  },
  {
   "cell_type": "code",
   "execution_count": 51,
   "id": "728e8b75-be62-4e06-b8f9-6ef0020ec17a",
   "metadata": {},
   "outputs": [
    {
     "name": "stdout",
     "output_type": "stream",
     "text": [
      "Flipkart Customer\n",
      "SURAJ pandey\n",
      "Flipkart Customer\n",
      "Rajesh Kumawat\n",
      " RAMBHAGAT  GURJAR\n",
      "OMVIR Jakhad\n",
      "Flipkart Customer\n",
      "P.venkata vara prasad P.venkata vara prasad\n",
      "Sanika  Karmalkar \n",
      "Vnky Vcky\n"
     ]
    },
    {
     "ename": "AttributeError",
     "evalue": "'NoneType' object has no attribute 'div'",
     "output_type": "error",
     "traceback": [
      "\u001b[0;31m---------------------------------------------------------------------------\u001b[0m",
      "\u001b[0;31mAttributeError\u001b[0m                            Traceback (most recent call last)",
      "Cell \u001b[0;32mIn[51], line 2\u001b[0m\n\u001b[1;32m      1\u001b[0m \u001b[38;5;28;01mfor\u001b[39;00m i \u001b[38;5;129;01min\u001b[39;00m comment_box:\n\u001b[0;32m----> 2\u001b[0m     \u001b[38;5;28mprint\u001b[39m(\u001b[43mi\u001b[49m\u001b[38;5;241;43m.\u001b[39;49m\u001b[43mdiv\u001b[49m\u001b[38;5;241;43m.\u001b[39;49m\u001b[43mdiv\u001b[49m\u001b[38;5;241m.\u001b[39mfind_all(\u001b[38;5;124m\"\u001b[39m\u001b[38;5;124mp\u001b[39m\u001b[38;5;124m\"\u001b[39m,{\u001b[38;5;124m\"\u001b[39m\u001b[38;5;124mclass\u001b[39m\u001b[38;5;124m\"\u001b[39m:\u001b[38;5;124m\"\u001b[39m\u001b[38;5;124m_2sc7ZR _2V5EHH\u001b[39m\u001b[38;5;124m\"\u001b[39m})[\u001b[38;5;241m0\u001b[39m]\u001b[38;5;241m.\u001b[39mtext)\n",
      "\u001b[0;31mAttributeError\u001b[0m: 'NoneType' object has no attribute 'div'"
     ]
    }
   ],
   "source": [
    "for i in comment_box:\n",
    "    print(i.div.div.find_all(\"p\",{\"class\":\"_2sc7ZR _2V5EHH\"})[0].text)"
   ]
  },
  {
   "cell_type": "code",
   "execution_count": 52,
   "id": "f25dda07-0d32-461c-b6a3-9f357953c0aa",
   "metadata": {},
   "outputs": [
    {
     "data": {
      "text/plain": [
       "'5'"
      ]
     },
     "execution_count": 52,
     "metadata": {},
     "output_type": "execute_result"
    }
   ],
   "source": [
    "comment_box[0].div.div.div.div.text"
   ]
  },
  {
   "cell_type": "code",
   "execution_count": 62,
   "id": "1f3ef3b1-981c-4897-a68d-0a7e5906bb05",
   "metadata": {},
   "outputs": [
    {
     "name": "stdout",
     "output_type": "stream",
     "text": [
      "5\n",
      "5\n",
      "3\n",
      "4\n",
      "4\n",
      "5\n",
      "5\n",
      "3\n",
      "5\n",
      "5\n"
     ]
    },
    {
     "ename": "AttributeError",
     "evalue": "'NoneType' object has no attribute 'div'",
     "output_type": "error",
     "traceback": [
      "\u001b[0;31m---------------------------------------------------------------------------\u001b[0m",
      "\u001b[0;31mAttributeError\u001b[0m                            Traceback (most recent call last)",
      "Cell \u001b[0;32mIn[62], line 2\u001b[0m\n\u001b[1;32m      1\u001b[0m \u001b[38;5;28;01mfor\u001b[39;00m i \u001b[38;5;129;01min\u001b[39;00m comment_box:\n\u001b[0;32m----> 2\u001b[0m     \u001b[38;5;28mprint\u001b[39m(\u001b[43mi\u001b[49m\u001b[38;5;241;43m.\u001b[39;49m\u001b[43mdiv\u001b[49m\u001b[38;5;241;43m.\u001b[39;49m\u001b[43mdiv\u001b[49m\u001b[38;5;241m.\u001b[39mdiv\u001b[38;5;241m.\u001b[39mdiv\u001b[38;5;241m.\u001b[39mtext)\n",
      "\u001b[0;31mAttributeError\u001b[0m: 'NoneType' object has no attribute 'div'"
     ]
    }
   ],
   "source": [
    "for i in comment_box:\n",
    "    print(i.div.div.div.div.text)"
   ]
  },
  {
   "cell_type": "code",
   "execution_count": 65,
   "id": "8e120428-0b73-4f1c-bc0e-93b4387c26a1",
   "metadata": {},
   "outputs": [
    {
     "data": {
      "text/plain": [
       "'Brilliant'"
      ]
     },
     "execution_count": 65,
     "metadata": {},
     "output_type": "execute_result"
    }
   ],
   "source": [
    "comment_box[0].div.div.div.p.text"
   ]
  },
  {
   "cell_type": "code",
   "execution_count": 66,
   "id": "0e89af92-0827-43e6-ae9e-70901c97e850",
   "metadata": {},
   "outputs": [
    {
     "name": "stdout",
     "output_type": "stream",
     "text": [
      "Brilliant\n",
      "Wonderful\n",
      "Good\n",
      "Good quality product\n",
      "Pretty good\n",
      "Wonderful\n",
      "Terrific purchase\n",
      "Good\n",
      "Brilliant\n",
      "Super!\n"
     ]
    },
    {
     "ename": "AttributeError",
     "evalue": "'NoneType' object has no attribute 'div'",
     "output_type": "error",
     "traceback": [
      "\u001b[0;31m---------------------------------------------------------------------------\u001b[0m",
      "\u001b[0;31mAttributeError\u001b[0m                            Traceback (most recent call last)",
      "Cell \u001b[0;32mIn[66], line 2\u001b[0m\n\u001b[1;32m      1\u001b[0m \u001b[38;5;28;01mfor\u001b[39;00m i \u001b[38;5;129;01min\u001b[39;00m comment_box:\n\u001b[0;32m----> 2\u001b[0m     \u001b[38;5;28mprint\u001b[39m(\u001b[43mi\u001b[49m\u001b[38;5;241;43m.\u001b[39;49m\u001b[43mdiv\u001b[49m\u001b[38;5;241;43m.\u001b[39;49m\u001b[43mdiv\u001b[49m\u001b[38;5;241m.\u001b[39mdiv\u001b[38;5;241m.\u001b[39mp\u001b[38;5;241m.\u001b[39mtext)\n",
      "\u001b[0;31mAttributeError\u001b[0m: 'NoneType' object has no attribute 'div'"
     ]
    }
   ],
   "source": [
    "for i in comment_box:\n",
    "    print(i.div.div.div.p.text)"
   ]
  },
  {
   "cell_type": "code",
   "execution_count": 74,
   "id": "3ee4831a-a90b-4d6b-bc99-becf9629fe12",
   "metadata": {},
   "outputs": [
    {
     "data": {
      "text/plain": [
       "'Product is very good quality also is very good picture quality very good I like and I am very Happy thanks FlipkartREAD MORE'"
      ]
     },
     "execution_count": 74,
     "metadata": {},
     "output_type": "execute_result"
    }
   ],
   "source": [
    "comment_box[0].div.div.find_all(\"div\",{\"class\":\"\"})[0].text"
   ]
  },
  {
   "cell_type": "code",
   "execution_count": 76,
   "id": "86f392da-6ab5-4781-8950-8779c0b17450",
   "metadata": {},
   "outputs": [
    {
     "name": "stdout",
     "output_type": "stream",
     "text": [
      "Product is very good quality also is very good picture quality very good I like and I am very Happy thanks FlipkartREAD MORE\n",
      "Amazing at this price.. I am very happy after buying this. 1:-Sound is amazing 😌2:- screen is outstanding3:- light in weight but heavy in performance.Overall best product .READ MORE\n",
      "Good at this price.good for cable or dishSound quality good Picture is ok(not too good)You get some smart features but this is not pure smart tvREAD MORE\n",
      "This TV is very good within this price.The build quality of the stand of this TV is a bit weak.I am using this TV since 15 days and I am not facing any problem.If you want to get 32-inch TV at a good price then this TV is perfect.The sound quality of the TV is also fine.READ MORE\n",
      "Lowest price super infinix 32 inch led  📺tv80cm super display , sound sound your super your infinix good item I am happy🙂🙂 thanks to FlipkartREAD MORE\n",
      "I think it's superb deal for me in big billion days.. Make in India product now beating all chinese product now day's....Totally value for money product.I love this LED smart tv.READ MORE\n",
      "Infinix Y1 LED TV is very good picture and sound quality is very good installation and demo is so fast thanks to FlipkartREAD MORE\n",
      "Good and nice picture quality it's to good for it go for itSound is goodAll are goodMy reating is 4/5READ MORE\n",
      "A very nice production has been delivered. The installation team is also very nice.TV : Talking about the TV, the quality of the TV is really good. The audio quality of the TV is very good. 3D or theater feeling when viewed b Features are very good TV quality express I like it very much. You can't get better and better TV in low budget than this.You can't immediately see what the TV looks like in the photo, but when you come in front of it, it feels very good after experiencing it yourself....READ MORE\n",
      "Worth For Price Got This For 8999 And It's Worth But Ur Looking For Smart TV Option go For Branded One Using High Processor, it have normal price apps are running but too slow if u wish to use this tv for only tv its worth it and 20w speaker goodREAD MORE\n"
     ]
    },
    {
     "ename": "AttributeError",
     "evalue": "'NoneType' object has no attribute 'div'",
     "output_type": "error",
     "traceback": [
      "\u001b[0;31m---------------------------------------------------------------------------\u001b[0m",
      "\u001b[0;31mAttributeError\u001b[0m                            Traceback (most recent call last)",
      "Cell \u001b[0;32mIn[76], line 2\u001b[0m\n\u001b[1;32m      1\u001b[0m \u001b[38;5;28;01mfor\u001b[39;00m i \u001b[38;5;129;01min\u001b[39;00m comment_box:\n\u001b[0;32m----> 2\u001b[0m     \u001b[38;5;28mprint\u001b[39m(\u001b[43mi\u001b[49m\u001b[38;5;241;43m.\u001b[39;49m\u001b[43mdiv\u001b[49m\u001b[38;5;241;43m.\u001b[39;49m\u001b[43mdiv\u001b[49m\u001b[38;5;241m.\u001b[39mfind_all(\u001b[38;5;124m\"\u001b[39m\u001b[38;5;124mdiv\u001b[39m\u001b[38;5;124m\"\u001b[39m,{\u001b[38;5;124m\"\u001b[39m\u001b[38;5;124mclass\u001b[39m\u001b[38;5;124m\"\u001b[39m:\u001b[38;5;124m\"\u001b[39m\u001b[38;5;124m\"\u001b[39m})[\u001b[38;5;241m0\u001b[39m]\u001b[38;5;241m.\u001b[39mtext)\n",
      "\u001b[0;31mAttributeError\u001b[0m: 'NoneType' object has no attribute 'div'"
     ]
    }
   ],
   "source": [
    "for i in comment_box:\n",
    "    print(i.div.div.find_all(\"div\",{\"class\":\"\"})[0].text)"
   ]
  },
  {
   "cell_type": "code",
   "execution_count": null,
   "id": "bbf9b068-e741-44e4-9d8e-1608db73feff",
   "metadata": {},
   "outputs": [],
   "source": []
  }
 ],
 "metadata": {
  "kernelspec": {
   "display_name": "Python 3 (ipykernel)",
   "language": "python",
   "name": "python3"
  },
  "language_info": {
   "codemirror_mode": {
    "name": "ipython",
    "version": 3
   },
   "file_extension": ".py",
   "mimetype": "text/x-python",
   "name": "python",
   "nbconvert_exporter": "python",
   "pygments_lexer": "ipython3",
   "version": "3.10.8"
  }
 },
 "nbformat": 4,
 "nbformat_minor": 5
}
